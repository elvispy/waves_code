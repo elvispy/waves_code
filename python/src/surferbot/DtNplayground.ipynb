{
 "cells": [
  {
   "cell_type": "code",
   "execution_count": 124,
   "metadata": {},
   "outputs": [],
   "source": [
    "import jax.numpy as jnp\n",
    "import scipy.integrate as spi\n",
    "\n",
    "# Define a harmonic function\n",
    "def phi(x, y):\n",
    "    return jnp.exp(-x**2) #jnp.log(jnp.sqrt((x)**2+(y-1)**2))\n",
    "Delta_x = 1e-2\n",
    "L = 10; N = int(2*L/Delta_x) + 1\n",
    "x_values = jnp.linspace(-L, L, N)\n",
    "phi_samples = jnp.array([phi(x, 0) for x in x_values])\n",
    "LIMIT = 2000\n",
    "\n",
    "jj = int(N/2) - 20\n",
    "x0 = x_values[jj]\n",
    "\n",
    "# Compute vertical derivative (partial derivative w.r.t y) at (x0,0)\n",
    "#x0 = 10.0  # Test point\n",
    "#eps = 0.1\n",
    "#numerical_phi_z = (phi(x0, eps) - phi(x0, -eps))/(2*eps)\n",
    "\n",
    "# Define the integral function (principal value integral)\n",
    "#def integrand(x):\n",
    "#    return (phi(x0, 0.0) - phi(x, 0.0)) / (x - x0) ** 2\n",
    "\n",
    "# Integrating near the origin\n",
    "#Dx = eps/2\n",
    "#f_evals = jnp.array([phi(x, 0) for x in [x0-2*Dx, x0-Dx, x0, x0+Dx, x0+2*Dx]])\n",
    "#int_near_x0 = jnp.dot(f_evals, jnp.array([-1.0, -32.0, 66.0, -32.0, -1.0]))/(18*Dx)\n",
    "\n",
    "# Use SciPy's to integrate. \n",
    "#LIMIT = 2000\n",
    "#integral_value = spi.quad(integrand, -jnp.inf, x0-eps, limit=LIMIT)[0] + spi.quad(integrand, x0+eps, jnp.inf, limit=LIMIT)[0] + int_near_x0\n",
    "#integral_uncer = spi.quad(integrand, -jnp.inf, x0-eps, limit=LIMIT)[1] + spi.quad(integrand, x0+eps, jnp.inf, limit=LIMIT)[1] \n",
    "#approx_phi_z = integral_value / jnp.pi\n",
    "\n",
    "# Compare results\n",
    "#print(f\"Numerical phi_z: {numerical_phi_z}\")\n",
    "#print(f\"Integral near x0: {int_near_x0} \")\n",
    "#print(f\"Integral approximation: {approx_phi_z} +- {integral_uncer/jnp.pi}\")"
   ]
  },
  {
   "cell_type": "code",
   "execution_count": 125,
   "metadata": {},
   "outputs": [
    {
     "name": "stdout",
     "output_type": "stream",
     "text": [
      "[ 0.          0.         -0.07398486 -0.1588831  -0.03707409]\n"
     ]
    }
   ],
   "source": [
    "def DtN_generator(Delta_x = 1/jnp.float32(100), N = None):\n",
    "    '''\n",
    "    This script will generate the matrix so that Aphi is an approximation of dphi/dz\n",
    "    '''\n",
    "    N = int(1/Delta_x) if N is None else N\n",
    "\n",
    "    # Create the main diagonal with 66's\n",
    "    DtN1 = jnp.diag(jnp.full(N, 66))\n",
    "    \n",
    "    # Fill the first sub- and super-diagonals with -32's\n",
    "    if N > 1:\n",
    "        DtN1 += jnp.diag(jnp.full(N-1, -32), k=1)\n",
    "        DtN1 += jnp.diag(jnp.full(N-1, -32), k=-1)\n",
    "        \n",
    "    # Fill the second sub- and super-diagonals with -1's\n",
    "    if N > 2:\n",
    "        DtN1 += jnp.diag(jnp.full(N-2, -1), k=2)\n",
    "        DtN1 += jnp.diag(jnp.full(N-2, -1), k=-2)\n",
    "        \n",
    "    DtN1 = DtN1 / 18.0 # This is the integral around the origin\n",
    "    DtN2 = jnp.diag(jnp.full(N, 1.0)) # First integral away of the origin. \n",
    "    \n",
    "    # Now second integral away from the origin\n",
    "    coefficients = [0 for _ in range(N+1)]\n",
    "    coef = lambda n, d: -jnp.float32(n)/(n+d) + (2*n - d)/2 * jnp.log((n+1)/(n-1)) - 1.0\n",
    "    for jj in range(1, int(N/2)):\n",
    "        n = 2 * jj + 1\n",
    "        coefficients[n-1] += coef(n, -1.0)\n",
    "        coefficients[n+1] += coef(n, +1.0)\n",
    "        coefficients[n]   += -2*coef(n, 0.0)\n",
    "\n",
    "    coefficients = jnp.array(coefficients)  \n",
    "    print(coefficients[:5])\n",
    "    #i = jnp.arange(N)\n",
    "    #j = jnp.arange(N)\n",
    "    #I, J = jnp.meshgrid(i, j, indexing='ij')\n",
    "    #diff = jnp.abs(J - I)\n",
    "\n",
    "    #DtN3 = jnp.zeros((N, N))\n",
    "    #for ii in range(N):\n",
    "    #    for jj in range(N):\n",
    "    #        if ii >= jj:\n",
    "    #            DtN3 = DtN3.at[(ii, jj)].set(coefficients[ii-jj])\n",
    "    #        else:\n",
    "    #            DtN3 = DtN3.at[(ii, jj)].set(coefficients[jj-ii])\n",
    "    i, j = jnp.meshgrid(jnp.arange(N), jnp.arange(N), indexing='ij')\n",
    "    DtN3 = coefficients[jnp.abs(i - j)]\n",
    "\n",
    "    # Use jnp.where to apply the function elementwise\n",
    "    #DtN3 = jnp.where(diff >= 0, \n",
    "    #              jnp.take(coefficients, diff),  \n",
    "    #              -jnp.take(coefficients, -diff)) \n",
    "    #DtN3 = jnp.take(coefficients, diff)\n",
    "    \n",
    "    # Apply the function f(i, j) to all pairs (i, j)\n",
    "    DtN = DtN1 + DtN2 + DtN3  # Broadcasting will handle the rest\n",
    "\n",
    "    return DtN/(jnp.pi * Delta_x), DtN1/(jnp.pi * Delta_x), DtN2/(jnp.pi * Delta_x), DtN3/(jnp.pi * Delta_x)\n",
    "\n",
    "DtN, B_near, C_away_1, D_away_2 = DtN_generator(N=N, Delta_x=Delta_x)\n"
   ]
  },
  {
   "cell_type": "code",
   "execution_count": 126,
   "metadata": {},
   "outputs": [
    {
     "name": "stderr",
     "output_type": "stream",
     "text": [
      "/var/folders/fy/v5bg020j3xn0415lw8wxppjh0000gn/T/ipykernel_7095/3597891806.py:6: IntegrationWarning: The occurrence of roundoff error is detected, which prevents \n",
      "  the requested tolerance from being achieved.  The error may be \n",
      "  underestimated.\n",
      "  integral_value = (spi.quad(integrand, -jnp.inf, x0-2*Delta_x, limit=LIMIT)[0] + spi.quad(integrand, x0+2*Delta_x, jnp.inf, limit=LIMIT)[0]) / jnp.pi\n"
     ]
    },
    {
     "name": "stdout",
     "output_type": "stream",
     "text": [
      "DtN approximation away 1:       30.582883834838867\n",
      "Numerical approximation away 1: 30.58289158774941\n"
     ]
    }
   ],
   "source": [
    "phi_away_1_dtn = C_away_1 @ phi_samples\n",
    "# Define the integral function (principal value integral)\n",
    "def integrand(x):\n",
    "    return phi(x0, 0.0) / (x - x0) ** 2\n",
    "\n",
    "integral_value = (spi.quad(integrand, -jnp.inf, x0-2*Delta_x, limit=LIMIT)[0] + spi.quad(integrand, x0+2*Delta_x, jnp.inf, limit=LIMIT)[0]) / jnp.pi\n",
    "\n",
    "print(f\"DtN approximation away 1:       {phi_away_1_dtn[jj]}\")\n",
    "print(f\"Numerical approximation away 1: {integral_value}\")\n"
   ]
  },
  {
   "cell_type": "code",
   "execution_count": 127,
   "metadata": {},
   "outputs": [
    {
     "name": "stderr",
     "output_type": "stream",
     "text": [
      "/var/folders/fy/v5bg020j3xn0415lw8wxppjh0000gn/T/ipykernel_7095/2923632954.py:6: IntegrationWarning: The occurrence of roundoff error is detected, which prevents \n",
      "  the requested tolerance from being achieved.  The error may be \n",
      "  underestimated.\n",
      "  integral_value = (spi.quad(integrand, -jnp.inf, x0-2*Delta_x, limit=LIMIT)[0] + spi.quad(integrand, x0+2*Delta_x, jnp.inf, limit=LIMIT)[0]) / jnp.pi\n"
     ]
    },
    {
     "name": "stdout",
     "output_type": "stream",
     "text": [
      "DtN approximation away 2:       -29.553604125976562\n",
      "Numerical approximation away 2: -29.553667345505854\n"
     ]
    }
   ],
   "source": [
    "phi_away_2_dtn = D_away_2 @ phi_samples\n",
    "# Define the integral function (principal value integral)\n",
    "def integrand(x):\n",
    "    return -phi(x, 0.0) / ((x - x0) ** 2)\n",
    "\n",
    "integral_value = (spi.quad(integrand, -jnp.inf, x0-2*Delta_x, limit=LIMIT)[0] + spi.quad(integrand, x0+2*Delta_x, jnp.inf, limit=LIMIT)[0]) / jnp.pi\n",
    "\n",
    "print(f\"DtN approximation away 2:       {phi_away_2_dtn[jj]}\")\n",
    "print(f\"Numerical approximation away 2: {integral_value}\")\n"
   ]
  },
  {
   "cell_type": "code",
   "execution_count": 128,
   "metadata": {},
   "outputs": [
    {
     "name": "stderr",
     "output_type": "stream",
     "text": [
      "/var/folders/fy/v5bg020j3xn0415lw8wxppjh0000gn/T/ipykernel_7095/407332379.py:10: IntegrationWarning: The occurrence of roundoff error is detected, which prevents \n",
      "  the requested tolerance from being achieved.  The error may be \n",
      "  underestimated.\n",
      "  integral_value = (spi.quad(integrand, -jnp.inf, x0-2*Delta_x, limit=LIMIT)[0] + spi.quad(integrand, x0+2*Delta_x, jnp.inf, limit=LIMIT)[0]) / jnp.pi\n"
     ]
    },
    {
     "name": "stdout",
     "output_type": "stream",
     "text": [
      "DtN approximation:       1.0405359268188477\n",
      "Numerical phi_z: 0.0\n",
      "Numerical phi_z (2): 1.029224143060909\n"
     ]
    }
   ],
   "source": [
    "numerical_phi_z = (phi(x0, Delta_x/100) - phi(x0, -Delta_x/100))/(2*Delta_x/100)\n",
    "\n",
    "from DtN import DtN_generator\n",
    "DtN = DtN_generator(N)/Delta_x\n",
    "DtN_phi_z = DtN[jj, :] @ phi_samples\n",
    "\n",
    "def integrand(x):\n",
    "    return (phi(x0, 0.0)-phi(x, 0.0)) / ((x - x0) ** 2)\n",
    "\n",
    "integral_value = (spi.quad(integrand, -jnp.inf, x0-2*Delta_x, limit=LIMIT)[0] + spi.quad(integrand, x0+2*Delta_x, jnp.inf, limit=LIMIT)[0]) / jnp.pi\n",
    "\n",
    "\n",
    "print(f\"DtN approximation:       {DtN_phi_z}\")\n",
    "print(f\"Numerical phi_z: {numerical_phi_z}\")\n",
    "print(f\"Numerical phi_z (2): {integral_value}\")"
   ]
  }
 ],
 "metadata": {
  "kernelspec": {
   "display_name": "surferbot",
   "language": "python",
   "name": "python3"
  },
  "language_info": {
   "codemirror_mode": {
    "name": "ipython",
    "version": 3
   },
   "file_extension": ".py",
   "mimetype": "text/x-python",
   "name": "python",
   "nbconvert_exporter": "python",
   "pygments_lexer": "ipython3",
   "version": "3.13.2"
  }
 },
 "nbformat": 4,
 "nbformat_minor": 2
}
