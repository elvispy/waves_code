{
 "cells": [
  {
   "cell_type": "code",
   "execution_count": null,
   "id": "ee30462e",
   "metadata": {},
   "outputs": [],
   "source": [
    "from surferbot.myDiff import Diff\n",
    "\n"
   ]
  }
 ],
 "metadata": {
  "language_info": {
   "name": "python"
  }
 },
 "nbformat": 4,
 "nbformat_minor": 5
}
